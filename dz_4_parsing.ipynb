{
  "nbformat": 4,
  "nbformat_minor": 0,
  "metadata": {
    "colab": {
      "provenance": [],
      "toc_visible": true
    },
    "kernelspec": {
      "name": "python3",
      "display_name": "Python 3"
    },
    "language_info": {
      "name": "python"
    }
  },
  "cells": [
    {
      "cell_type": "code",
      "execution_count": null,
      "metadata": {
        "id": "xSgVb5jtDkeL"
      },
      "outputs": [],
      "source": [
        "import requests\n",
        "from bs4 import BeautifulSoup\n",
        "import pandas as pd\n",
        "\n",
        "\n",
        "url = 'https://litmir.org/books/kompyutery-i-internet/bazy-dannykh/'\n",
        "\n",
        "result = requests.get(url)\n",
        "result.text\n",
        "\n",
        "\n",
        "soup = BeautifulSoup(result.text, 'lxml')\n",
        "# # print(soup.prettify())\n",
        "\n",
        "# books = soup.find_all('div', attrs = {'class' : ['short clearfix with-mask']})\n",
        "# len(books)\n",
        "#books[0]\n"
      ]
    },
    {
      "cell_type": "code",
      "source": [
        "soup = BeautifulSoup(result.text, 'lxml')"
      ],
      "metadata": {
        "id": "RWnTawcB-Khq"
      },
      "execution_count": null,
      "outputs": []
    },
    {
      "cell_type": "code",
      "source": [
        "link = soup.find('a', class_='short-title').get('href')"
      ],
      "metadata": {
        "colab": {
          "base_uri": "https://localhost:8080/",
          "height": 35
        },
        "id": "vlCvMNRA-UpM",
        "outputId": "86ccc9ca-426b-4935-9bd1-06253707b518"
      },
      "execution_count": null,
      "outputs": [
        {
          "output_type": "execute_result",
          "data": {
            "text/plain": [
              "'https://litmir.org/books/kompyutery-i-internet/bazy-dannykh/278042-vvedenie-v-perl-maslov-vladimir-viktorovich.html'"
            ],
            "application/vnd.google.colaboratory.intrinsic+json": {
              "type": "string"
            }
          },
          "metadata": {},
          "execution_count": 7
        }
      ]
    },
    {
      "cell_type": "code",
      "source": [
        "title = soup.find('a', class_='short-title').text\n",
        "title"
      ],
      "metadata": {
        "colab": {
          "base_uri": "https://localhost:8080/",
          "height": 35
        },
        "id": "eh3AEC4PBqcL",
        "outputId": "912e6c17-2e61-48e3-d777-cf8233cb9fdb"
      },
      "execution_count": null,
      "outputs": [
        {
          "output_type": "execute_result",
          "data": {
            "text/plain": [
              "'Введение в Perl - Маслов Владимир Викторович'"
            ],
            "application/vnd.google.colaboratory.intrinsic+json": {
              "type": "string"
            }
          },
          "metadata": {},
          "execution_count": 23
        }
      ]
    },
    {
      "cell_type": "code",
      "source": [
        "description = soup.find('div', class_='sd-line sd-text').text"
      ],
      "metadata": {
        "colab": {
          "base_uri": "https://localhost:8080/",
          "height": 53
        },
        "id": "n9Zn5KnmChSv",
        "outputId": "cfadf634-47fa-4408-b8ae-1fb21edb8019"
      },
      "execution_count": null,
      "outputs": [
        {
          "output_type": "execute_result",
          "data": {
            "text/plain": [
              "'Описание: В книге приводятся начальные сведения по новому языку программирования Перл. Данный язык получил широкое распространение в связи с развитием компьютерной сети Интернет. Все примеры в книге'"
            ],
            "application/vnd.google.colaboratory.intrinsic+json": {
              "type": "string"
            }
          },
          "metadata": {},
          "execution_count": 11
        }
      ]
    },
    {
      "cell_type": "code",
      "source": [
        "books = soup.find_all('div', attrs = {'class' : ['short clearfix with-mask']})\n",
        "\n",
        "data = []\n",
        "for book in books:\n",
        "   link = book.find('a', class_='short-title').get('href')\n",
        "   title = book.find('a', class_='short-title').text\n",
        "   description = book.find('div', class_='sd-line sd-text').text\n",
        "\n",
        "   data.append([link, title, description])\n",
        "#len(books)"
      ],
      "metadata": {
        "id": "Boi03VWXAtKH"
      },
      "execution_count": null,
      "outputs": []
    },
    {
      "cell_type": "code",
      "source": [
        "data"
      ],
      "metadata": {
        "colab": {
          "base_uri": "https://localhost:8080/"
        },
        "id": "_JfAO1q2C55y",
        "outputId": "40e61c07-f36f-4200-8288-bc11ad59de6f"
      },
      "execution_count": null,
      "outputs": [
        {
          "output_type": "execute_result",
          "data": {
            "text/plain": [
              "[['https://litmir.org/books/kompyutery-i-internet/bazy-dannykh/278042-vvedenie-v-perl-maslov-vladimir-viktorovich.html',\n",
              "  'Введение в Perl - Маслов Владимир Викторович',\n",
              "  'Описание: В книге приводятся начальные сведения по новому языку программирования Перл. Данный язык получил широкое распространение в связи с развитием компьютерной сети Интернет. Все примеры в книге'],\n",
              " ['https://litmir.org/books/kompyutery-i-internet/bazy-dannykh/278041-bpwin-i-erwin-case-sredstva-dlya-razrabotki-informacionnyh.html',\n",
              "  'BPwin и Erwin. CASE-средства для разработки информационных систем - Маклаков Сергей Владимирович',\n",
              "  'Описание: Книга представляет собой практическое руководство по созданию информационных систем с помощью CASE - средств фирмы PLATINUM technology - BPwin и ERwin. Она содержит описание методов'],\n",
              " ['https://litmir.org/books/kompyutery-i-internet/bazy-dannykh/278039-programmnoe-obespechenie-i-ego-razrabotka-foks-dzhozef.html',\n",
              "  'Программное обеспечение и его разработка - Фокс Джозеф М.',\n",
              "  'Описание: Автор книги — американский специалист по программированию, один из руководителей фирмы IBM, в своей книге делает попытку изложить общие проблемы создания программного обеспечения, его'],\n",
              " ['https://litmir.org/books/kompyutery-i-internet/bazy-dannykh/278038-rukovodstvo-administratora-baz-dannyh-inrformix.html',\n",
              "  'Руководство администратора баз данных Inrformix (СИ) - Кустов Виктор Николаевич',\n",
              "  'Описание: Традиционных возможностей файловых систем оказывается недостаточно для построения даже простых информационных систем. При построении информационной системы требуется обеспечить: поддержание'],\n",
              " ['https://litmir.org/books/kompyutery-i-internet/bazy-dannykh/260253-w-cat-spravka-po-sql.html',\n",
              "  'W Cat - Справка по SQL',\n",
              "  'Описание: '],\n",
              " ['https://litmir.org/books/kompyutery-i-internet/bazy-dannykh/260254-w-cat-s-d-f.html',\n",
              "  'W Cat - S. D. F.',\n",
              "  'Описание: Если вам интересен SQL, и знаком Delphi, давайте поразвлекаемся программированием.'],\n",
              " ['https://litmir.org/books/kompyutery-i-internet/bazy-dannykh/260251-aleksei-pautov-mysql-rukovodstvo-professionala.html',\n",
              "  'Алексей Паутов - MySQL: руководство профессионала',\n",
              "  'Описание: Это не совсем книга. Просто по ходу работы и изучения пакета у меня накопилось немало заметок, которые я в конце концов собрал воедино и опубликовал с оглавлением и под единым названием.'],\n",
              " ['https://litmir.org/books/kompyutery-i-internet/bazy-dannykh/260252-viktor-kustov-rukovodstvo-administratora-baz-dannyh.html',\n",
              "  'Виктор Кустов - Руководство администратора баз данных Inrformix.',\n",
              "  'Описание: '],\n",
              " ['https://litmir.org/books/kompyutery-i-internet/bazy-dannykh/260250-kollektiv-avtorov-bazy-dannyh-konspekt-lekcii.html',\n",
              "  'Коллектив Авторов - Базы данных: конспект лекций',\n",
              "  'Описание: Конспект лекций соответствует требованиям Государственного образовательного стандарта высшего профессионального образования РФ и предназначен для освоения студентами вузов специальной'],\n",
              " ['https://litmir.org/books/kompyutery-i-internet/bazy-dannykh/260248-martin-gruber-ponimanie-sql.html',\n",
              "  'Мартин Грубер - Понимание SQL',\n",
              "  'Описание: Данная книга является очень хорошим введением в теорию реляционных БД для пользователей-новичков, а также хорошим началом в освоении SQL, грамотном построение запросов, понимании того как'],\n",
              " ['https://litmir.org/books/kompyutery-i-internet/bazy-dannykh/260249-tomasz-grysztar-flat-assembler-164-manual-programmera.html',\n",
              "  'Tomasz Grysztar - Flat Assembler 1.64. Мануал программера',\n",
              "  'Описание: '],\n",
              " ['https://litmir.org/books/kompyutery-i-internet/bazy-dannykh/260246-sergei-maklakov-bpwin-i-erwin-case-sredstva-dlya-razrabotki.html',\n",
              "  'Сергей Маклаков - BPwin и Erwin. CASE-средства для разработки информационных систем',\n",
              "  'Описание: Книга представляет собой практическое руководство по созданию информационных систем с помощью CASE - средств фирмы PLATINUM technology - BPwin и ERwin. Она содержит описание методов'],\n",
              " ['https://litmir.org/books/kompyutery-i-internet/bazy-dannykh/260247-w-cat-sql-za-24-chasa.html',\n",
              "  'W Cat - SQL за 24 часа',\n",
              "  'Описание: '],\n",
              " ['https://litmir.org/books/kompyutery-i-internet/bazy-dannykh/260245-sergei-maklakov-modelirovanie-biznes-processov-s-bpwin.html',\n",
              "  'Сергей Маклаков - Моделирование бизнес-процессов с BPwin 4.0',\n",
              "  'Описание: Книга представляет собой практическое руководство по созданию функциональных моделей и системному анализу с помощью CASE-средства фирмы Computer Associates - BPwin 4.0. Она содержит']]"
            ]
          },
          "metadata": {},
          "execution_count": 9
        }
      ]
    },
    {
      "cell_type": "code",
      "source": [
        "heder = ['link', 'title', 'description']"
      ],
      "metadata": {
        "id": "H7bNLY0RGETG"
      },
      "execution_count": null,
      "outputs": []
    },
    {
      "cell_type": "code",
      "source": [
        "pd.DataFrame(data, columns=heder)"
      ],
      "metadata": {
        "colab": {
          "base_uri": "https://localhost:8080/",
          "height": 488
        },
        "id": "qQJlJg7hIott",
        "outputId": "df4b865b-7fd9-4179-82a2-9226ac2da68e"
      },
      "execution_count": null,
      "outputs": [
        {
          "output_type": "execute_result",
          "data": {
            "text/plain": [
              "                                                 link  \\\n",
              "0   https://litmir.org/books/kompyutery-i-internet...   \n",
              "1   https://litmir.org/books/kompyutery-i-internet...   \n",
              "2   https://litmir.org/books/kompyutery-i-internet...   \n",
              "3   https://litmir.org/books/kompyutery-i-internet...   \n",
              "4   https://litmir.org/books/kompyutery-i-internet...   \n",
              "5   https://litmir.org/books/kompyutery-i-internet...   \n",
              "6   https://litmir.org/books/kompyutery-i-internet...   \n",
              "7   https://litmir.org/books/kompyutery-i-internet...   \n",
              "8   https://litmir.org/books/kompyutery-i-internet...   \n",
              "9   https://litmir.org/books/kompyutery-i-internet...   \n",
              "10  https://litmir.org/books/kompyutery-i-internet...   \n",
              "11  https://litmir.org/books/kompyutery-i-internet...   \n",
              "12  https://litmir.org/books/kompyutery-i-internet...   \n",
              "13  https://litmir.org/books/kompyutery-i-internet...   \n",
              "\n",
              "                                                title  \\\n",
              "0        Введение в Perl - Маслов Владимир Викторович   \n",
              "1   BPwin и Erwin. CASE-средства для разработки ин...   \n",
              "2   Программное обеспечение и его разработка - Фок...   \n",
              "3   Руководство администратора баз данных Inrformi...   \n",
              "4                              W Cat - Справка по SQL   \n",
              "5                                    W Cat - S. D. F.   \n",
              "6   Алексей Паутов - MySQL: руководство профессионала   \n",
              "7   Виктор Кустов - Руководство администратора баз...   \n",
              "8    Коллектив Авторов - Базы данных: конспект лекций   \n",
              "9                       Мартин Грубер - Понимание SQL   \n",
              "10  Tomasz Grysztar - Flat Assembler 1.64. Мануал ...   \n",
              "11  Сергей Маклаков - BPwin и Erwin. CASE-средства...   \n",
              "12                             W Cat - SQL за 24 часа   \n",
              "13  Сергей Маклаков - Моделирование бизнес-процесс...   \n",
              "\n",
              "                                          description  \n",
              "0   Описание: В книге приводятся начальные сведени...  \n",
              "1   Описание: Книга представляет собой практическо...  \n",
              "2   Описание: Автор книги — американский специалис...  \n",
              "3   Описание: Традиционных возможностей файловых с...  \n",
              "4                                          Описание:   \n",
              "5   Описание: Если вам интересен SQL, и знаком Del...  \n",
              "6   Описание: Это не совсем книга. Просто по ходу ...  \n",
              "7                                          Описание:   \n",
              "8   Описание: Конспект лекций соответствует требов...  \n",
              "9   Описание: Данная книга является очень хорошим ...  \n",
              "10                                         Описание:   \n",
              "11  Описание: Книга представляет собой практическо...  \n",
              "12                                         Описание:   \n",
              "13  Описание: Книга представляет собой практическо...  "
            ],
            "text/html": [
              "\n",
              "  <div id=\"df-86d68027-f047-4b9c-bd90-4c86a86a0cdf\">\n",
              "    <div class=\"colab-df-container\">\n",
              "      <div>\n",
              "<style scoped>\n",
              "    .dataframe tbody tr th:only-of-type {\n",
              "        vertical-align: middle;\n",
              "    }\n",
              "\n",
              "    .dataframe tbody tr th {\n",
              "        vertical-align: top;\n",
              "    }\n",
              "\n",
              "    .dataframe thead th {\n",
              "        text-align: right;\n",
              "    }\n",
              "</style>\n",
              "<table border=\"1\" class=\"dataframe\">\n",
              "  <thead>\n",
              "    <tr style=\"text-align: right;\">\n",
              "      <th></th>\n",
              "      <th>link</th>\n",
              "      <th>title</th>\n",
              "      <th>description</th>\n",
              "    </tr>\n",
              "  </thead>\n",
              "  <tbody>\n",
              "    <tr>\n",
              "      <th>0</th>\n",
              "      <td>https://litmir.org/books/kompyutery-i-internet...</td>\n",
              "      <td>Введение в Perl - Маслов Владимир Викторович</td>\n",
              "      <td>Описание: В книге приводятся начальные сведени...</td>\n",
              "    </tr>\n",
              "    <tr>\n",
              "      <th>1</th>\n",
              "      <td>https://litmir.org/books/kompyutery-i-internet...</td>\n",
              "      <td>BPwin и Erwin. CASE-средства для разработки ин...</td>\n",
              "      <td>Описание: Книга представляет собой практическо...</td>\n",
              "    </tr>\n",
              "    <tr>\n",
              "      <th>2</th>\n",
              "      <td>https://litmir.org/books/kompyutery-i-internet...</td>\n",
              "      <td>Программное обеспечение и его разработка - Фок...</td>\n",
              "      <td>Описание: Автор книги — американский специалис...</td>\n",
              "    </tr>\n",
              "    <tr>\n",
              "      <th>3</th>\n",
              "      <td>https://litmir.org/books/kompyutery-i-internet...</td>\n",
              "      <td>Руководство администратора баз данных Inrformi...</td>\n",
              "      <td>Описание: Традиционных возможностей файловых с...</td>\n",
              "    </tr>\n",
              "    <tr>\n",
              "      <th>4</th>\n",
              "      <td>https://litmir.org/books/kompyutery-i-internet...</td>\n",
              "      <td>W Cat - Справка по SQL</td>\n",
              "      <td>Описание:</td>\n",
              "    </tr>\n",
              "    <tr>\n",
              "      <th>5</th>\n",
              "      <td>https://litmir.org/books/kompyutery-i-internet...</td>\n",
              "      <td>W Cat - S. D. F.</td>\n",
              "      <td>Описание: Если вам интересен SQL, и знаком Del...</td>\n",
              "    </tr>\n",
              "    <tr>\n",
              "      <th>6</th>\n",
              "      <td>https://litmir.org/books/kompyutery-i-internet...</td>\n",
              "      <td>Алексей Паутов - MySQL: руководство профессионала</td>\n",
              "      <td>Описание: Это не совсем книга. Просто по ходу ...</td>\n",
              "    </tr>\n",
              "    <tr>\n",
              "      <th>7</th>\n",
              "      <td>https://litmir.org/books/kompyutery-i-internet...</td>\n",
              "      <td>Виктор Кустов - Руководство администратора баз...</td>\n",
              "      <td>Описание:</td>\n",
              "    </tr>\n",
              "    <tr>\n",
              "      <th>8</th>\n",
              "      <td>https://litmir.org/books/kompyutery-i-internet...</td>\n",
              "      <td>Коллектив Авторов - Базы данных: конспект лекций</td>\n",
              "      <td>Описание: Конспект лекций соответствует требов...</td>\n",
              "    </tr>\n",
              "    <tr>\n",
              "      <th>9</th>\n",
              "      <td>https://litmir.org/books/kompyutery-i-internet...</td>\n",
              "      <td>Мартин Грубер - Понимание SQL</td>\n",
              "      <td>Описание: Данная книга является очень хорошим ...</td>\n",
              "    </tr>\n",
              "    <tr>\n",
              "      <th>10</th>\n",
              "      <td>https://litmir.org/books/kompyutery-i-internet...</td>\n",
              "      <td>Tomasz Grysztar - Flat Assembler 1.64. Мануал ...</td>\n",
              "      <td>Описание:</td>\n",
              "    </tr>\n",
              "    <tr>\n",
              "      <th>11</th>\n",
              "      <td>https://litmir.org/books/kompyutery-i-internet...</td>\n",
              "      <td>Сергей Маклаков - BPwin и Erwin. CASE-средства...</td>\n",
              "      <td>Описание: Книга представляет собой практическо...</td>\n",
              "    </tr>\n",
              "    <tr>\n",
              "      <th>12</th>\n",
              "      <td>https://litmir.org/books/kompyutery-i-internet...</td>\n",
              "      <td>W Cat - SQL за 24 часа</td>\n",
              "      <td>Описание:</td>\n",
              "    </tr>\n",
              "    <tr>\n",
              "      <th>13</th>\n",
              "      <td>https://litmir.org/books/kompyutery-i-internet...</td>\n",
              "      <td>Сергей Маклаков - Моделирование бизнес-процесс...</td>\n",
              "      <td>Описание: Книга представляет собой практическо...</td>\n",
              "    </tr>\n",
              "  </tbody>\n",
              "</table>\n",
              "</div>\n",
              "      <button class=\"colab-df-convert\" onclick=\"convertToInteractive('df-86d68027-f047-4b9c-bd90-4c86a86a0cdf')\"\n",
              "              title=\"Convert this dataframe to an interactive table.\"\n",
              "              style=\"display:none;\">\n",
              "        \n",
              "  <svg xmlns=\"http://www.w3.org/2000/svg\" height=\"24px\"viewBox=\"0 0 24 24\"\n",
              "       width=\"24px\">\n",
              "    <path d=\"M0 0h24v24H0V0z\" fill=\"none\"/>\n",
              "    <path d=\"M18.56 5.44l.94 2.06.94-2.06 2.06-.94-2.06-.94-.94-2.06-.94 2.06-2.06.94zm-11 1L8.5 8.5l.94-2.06 2.06-.94-2.06-.94L8.5 2.5l-.94 2.06-2.06.94zm10 10l.94 2.06.94-2.06 2.06-.94-2.06-.94-.94-2.06-.94 2.06-2.06.94z\"/><path d=\"M17.41 7.96l-1.37-1.37c-.4-.4-.92-.59-1.43-.59-.52 0-1.04.2-1.43.59L10.3 9.45l-7.72 7.72c-.78.78-.78 2.05 0 2.83L4 21.41c.39.39.9.59 1.41.59.51 0 1.02-.2 1.41-.59l7.78-7.78 2.81-2.81c.8-.78.8-2.07 0-2.86zM5.41 20L4 18.59l7.72-7.72 1.47 1.35L5.41 20z\"/>\n",
              "  </svg>\n",
              "      </button>\n",
              "      \n",
              "  <style>\n",
              "    .colab-df-container {\n",
              "      display:flex;\n",
              "      flex-wrap:wrap;\n",
              "      gap: 12px;\n",
              "    }\n",
              "\n",
              "    .colab-df-convert {\n",
              "      background-color: #E8F0FE;\n",
              "      border: none;\n",
              "      border-radius: 50%;\n",
              "      cursor: pointer;\n",
              "      display: none;\n",
              "      fill: #1967D2;\n",
              "      height: 32px;\n",
              "      padding: 0 0 0 0;\n",
              "      width: 32px;\n",
              "    }\n",
              "\n",
              "    .colab-df-convert:hover {\n",
              "      background-color: #E2EBFA;\n",
              "      box-shadow: 0px 1px 2px rgba(60, 64, 67, 0.3), 0px 1px 3px 1px rgba(60, 64, 67, 0.15);\n",
              "      fill: #174EA6;\n",
              "    }\n",
              "\n",
              "    [theme=dark] .colab-df-convert {\n",
              "      background-color: #3B4455;\n",
              "      fill: #D2E3FC;\n",
              "    }\n",
              "\n",
              "    [theme=dark] .colab-df-convert:hover {\n",
              "      background-color: #434B5C;\n",
              "      box-shadow: 0px 1px 3px 1px rgba(0, 0, 0, 0.15);\n",
              "      filter: drop-shadow(0px 1px 2px rgba(0, 0, 0, 0.3));\n",
              "      fill: #FFFFFF;\n",
              "    }\n",
              "  </style>\n",
              "\n",
              "      <script>\n",
              "        const buttonEl =\n",
              "          document.querySelector('#df-86d68027-f047-4b9c-bd90-4c86a86a0cdf button.colab-df-convert');\n",
              "        buttonEl.style.display =\n",
              "          google.colab.kernel.accessAllowed ? 'block' : 'none';\n",
              "\n",
              "        async function convertToInteractive(key) {\n",
              "          const element = document.querySelector('#df-86d68027-f047-4b9c-bd90-4c86a86a0cdf');\n",
              "          const dataTable =\n",
              "            await google.colab.kernel.invokeFunction('convertToInteractive',\n",
              "                                                     [key], {});\n",
              "          if (!dataTable) return;\n",
              "\n",
              "          const docLinkHtml = 'Like what you see? Visit the ' +\n",
              "            '<a target=\"_blank\" href=https://colab.research.google.com/notebooks/data_table.ipynb>data table notebook</a>'\n",
              "            + ' to learn more about interactive tables.';\n",
              "          element.innerHTML = '';\n",
              "          dataTable['output_type'] = 'display_data';\n",
              "          await google.colab.output.renderOutput(dataTable, element);\n",
              "          const docLink = document.createElement('div');\n",
              "          docLink.innerHTML = docLinkHtml;\n",
              "          element.appendChild(docLink);\n",
              "        }\n",
              "      </script>\n",
              "    </div>\n",
              "  </div>\n",
              "  "
            ]
          },
          "metadata": {},
          "execution_count": 14
        }
      ]
    }
  ]
}