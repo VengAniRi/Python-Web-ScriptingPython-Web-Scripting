{
  "nbformat": 4,
  "nbformat_minor": 0,
  "metadata": {
    "colab": {
      "provenance": []
    },
    "kernelspec": {
      "name": "python3",
      "display_name": "Python 3"
    },
    "language_info": {
      "name": "python"
    }
  },
  "cells": [
    {
      "cell_type": "markdown",
      "source": [
        "Задание 4. Web-scraping на языке Python \n",
        "\n",
        "Инструкция:\n",
        "Шаг 1.  Изучите материалы лекционных и практических занятий по темам раздела 3. \n",
        "\n",
        "Шаг 2. Выполните web-scraping предложенного сайта с использованием библиотеки BeautifulSoup  (Алгоритм выполнения представлен в практическом занятии по теме 3.2). \n",
        "\n",
        "Шаг 3. Выполните HTML разбор текста (Алгоритм выполнения представлен в практическом занятии по теме 3.2).\n",
        "\n",
        "Шаг 4.  Опубликуйте файл расширения ipynb на платформе Odin.\n",
        "\n",
        "Ресурсы, рекомендуемые для скрейпинга: kinopoisk.ru, aliexpress.ru, litmir.me, mybook.ru, citilink.ru, ivi.ru, litres.ru, prodoctorov.ru, pro-katalog.ru"
      ],
      "metadata": {
        "id": "zGQQBr_E6PNL"
      }
    },
    {
      "cell_type": "code",
      "execution_count": null,
      "metadata": {
        "id": "odmEmjur6KSl"
      },
      "outputs": [],
      "source": []
    }
  ]
}